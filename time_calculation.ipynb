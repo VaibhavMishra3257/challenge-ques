{
  "nbformat": 4,
  "nbformat_minor": 0,
  "metadata": {
    "colab": {
      "provenance": [],
      "authorship_tag": "ABX9TyN4pzcj79E/QSJ0xohQmRz6",
      "include_colab_link": true
    },
    "kernelspec": {
      "name": "python3",
      "display_name": "Python 3"
    },
    "language_info": {
      "name": "python"
    }
  },
  "cells": [
    {
      "cell_type": "markdown",
      "metadata": {
        "id": "view-in-github",
        "colab_type": "text"
      },
      "source": [
        "<a href=\"https://colab.research.google.com/github/VaibhavMishra3257/challenge-ques/blob/main/time_calculation.ipynb\" target=\"_parent\"><img src=\"https://colab.research.google.com/assets/colab-badge.svg\" alt=\"Open In Colab\"/></a>"
      ]
    },
    {
      "cell_type": "code",
      "execution_count": null,
      "metadata": {
        "id": "IuuwjppexAET"
      },
      "outputs": [],
      "source": []
    },
    {
      "cell_type": "code",
      "source": [
        "import time\n",
        "t1 = time.time\n",
        "for i in range(100000):\n",
        "    for i in range(100000):\n",
        "        x=900\n",
        "t2 = time.time()\n",
        "print(\"total time is \" , t2-t1)"
      ],
      "metadata": {
        "id": "8h4993ZaxEGV"
      },
      "execution_count": null,
      "outputs": []
    }
  ]
}